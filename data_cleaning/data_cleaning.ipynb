{
 "cells": [
  {
   "cell_type": "code",
   "execution_count": 1,
   "metadata": {},
   "outputs": [],
   "source": [
    "# dependencies\n",
    "%matplotlib inline\n",
    "import matplotlib.pyplot as plt\n",
    "import pandas as pd"
   ]
  },
  {
   "cell_type": "code",
   "execution_count": 3,
   "metadata": {},
   "outputs": [
    {
     "data": {
      "text/html": [
       "<div>\n",
       "<style scoped>\n",
       "    .dataframe tbody tr th:only-of-type {\n",
       "        vertical-align: middle;\n",
       "    }\n",
       "\n",
       "    .dataframe tbody tr th {\n",
       "        vertical-align: top;\n",
       "    }\n",
       "\n",
       "    .dataframe thead th {\n",
       "        text-align: right;\n",
       "    }\n",
       "</style>\n",
       "<table border=\"1\" class=\"dataframe\">\n",
       "  <thead>\n",
       "    <tr style=\"text-align: right;\">\n",
       "      <th></th>\n",
       "      <th>Subject</th>\n",
       "      <th>Sex</th>\n",
       "      <th>Race</th>\n",
       "      <th>Age</th>\n",
       "      <th>Number of Bio. Parents</th>\n",
       "      <th>Number of Siblings</th>\n",
       "      <th>Poverty Status</th>\n",
       "      <th>SAD</th>\n",
       "      <th>GAD</th>\n",
       "      <th>Social Phobia</th>\n",
       "      <th>...</th>\n",
       "      <th>Frequency Temper Tantrums</th>\n",
       "      <th>Frequency Irritable Mood</th>\n",
       "      <th>Number of Sleep Disturbances</th>\n",
       "      <th>Number of Physical Symptoms</th>\n",
       "      <th>Number of Sensory Sensitivities</th>\n",
       "      <th>Family History - Substance Abuse</th>\n",
       "      <th>Family History - Psychiatric Diagnosis</th>\n",
       "      <th>GAD Probabiliy - Gamma</th>\n",
       "      <th>SAD Probability - Gamma</th>\n",
       "      <th>Sample Weight</th>\n",
       "    </tr>\n",
       "  </thead>\n",
       "  <tbody>\n",
       "    <tr>\n",
       "      <td>0</td>\n",
       "      <td>Test101</td>\n",
       "      <td>F</td>\n",
       "      <td>0</td>\n",
       "      <td>2</td>\n",
       "      <td>1</td>\n",
       "      <td>1</td>\n",
       "      <td>0.0</td>\n",
       "      <td>0</td>\n",
       "      <td>1</td>\n",
       "      <td>1.0</td>\n",
       "      <td>...</td>\n",
       "      <td>27</td>\n",
       "      <td>396</td>\n",
       "      <td>4</td>\n",
       "      <td>3</td>\n",
       "      <td>2</td>\n",
       "      <td>0</td>\n",
       "      <td>0</td>\n",
       "      <td>1.596957</td>\n",
       "      <td>0.067867</td>\n",
       "      <td>0.572227</td>\n",
       "    </tr>\n",
       "    <tr>\n",
       "      <td>1</td>\n",
       "      <td>Test102</td>\n",
       "      <td>M</td>\n",
       "      <td>1</td>\n",
       "      <td>2</td>\n",
       "      <td>0</td>\n",
       "      <td>3</td>\n",
       "      <td>1.0</td>\n",
       "      <td>0</td>\n",
       "      <td>0</td>\n",
       "      <td>0.0</td>\n",
       "      <td>...</td>\n",
       "      <td>282</td>\n",
       "      <td>1179</td>\n",
       "      <td>6</td>\n",
       "      <td>1</td>\n",
       "      <td>0</td>\n",
       "      <td>1</td>\n",
       "      <td>1</td>\n",
       "      <td>0.032650</td>\n",
       "      <td>0.068811</td>\n",
       "      <td>0.396157</td>\n",
       "    </tr>\n",
       "    <tr>\n",
       "      <td>2</td>\n",
       "      <td>Test103</td>\n",
       "      <td>F</td>\n",
       "      <td>1</td>\n",
       "      <td>3</td>\n",
       "      <td>2</td>\n",
       "      <td>1</td>\n",
       "      <td>0.0</td>\n",
       "      <td>1</td>\n",
       "      <td>0</td>\n",
       "      <td>0.0</td>\n",
       "      <td>...</td>\n",
       "      <td>3</td>\n",
       "      <td>0</td>\n",
       "      <td>9</td>\n",
       "      <td>4</td>\n",
       "      <td>1</td>\n",
       "      <td>0</td>\n",
       "      <td>0</td>\n",
       "      <td>0.005782</td>\n",
       "      <td>0.270583</td>\n",
       "      <td>0.686673</td>\n",
       "    </tr>\n",
       "    <tr>\n",
       "      <td>3</td>\n",
       "      <td>Test104</td>\n",
       "      <td>F</td>\n",
       "      <td>0</td>\n",
       "      <td>4</td>\n",
       "      <td>2</td>\n",
       "      <td>0</td>\n",
       "      <td>0.0</td>\n",
       "      <td>0</td>\n",
       "      <td>0</td>\n",
       "      <td>0.0</td>\n",
       "      <td>...</td>\n",
       "      <td>30</td>\n",
       "      <td>45</td>\n",
       "      <td>6</td>\n",
       "      <td>0</td>\n",
       "      <td>0</td>\n",
       "      <td>0</td>\n",
       "      <td>1</td>\n",
       "      <td>1.596957</td>\n",
       "      <td>0.068811</td>\n",
       "      <td>0.400559</td>\n",
       "    </tr>\n",
       "    <tr>\n",
       "      <td>4</td>\n",
       "      <td>Test105</td>\n",
       "      <td>F</td>\n",
       "      <td>0</td>\n",
       "      <td>5</td>\n",
       "      <td>2</td>\n",
       "      <td>3</td>\n",
       "      <td>0.0</td>\n",
       "      <td>1</td>\n",
       "      <td>1</td>\n",
       "      <td>1.0</td>\n",
       "      <td>...</td>\n",
       "      <td>637</td>\n",
       "      <td>1170</td>\n",
       "      <td>10</td>\n",
       "      <td>5</td>\n",
       "      <td>2</td>\n",
       "      <td>0</td>\n",
       "      <td>0</td>\n",
       "      <td>1.596957</td>\n",
       "      <td>47.355899</td>\n",
       "      <td>0.314725</td>\n",
       "    </tr>\n",
       "  </tbody>\n",
       "</table>\n",
       "<p>5 rows × 27 columns</p>\n",
       "</div>"
      ],
      "text/plain": [
       "   Subject Sex  Race  Age  Number of Bio. Parents  Number of Siblings  \\\n",
       "0  Test101   F     0    2                       1                   1   \n",
       "1  Test102   M     1    2                       0                   3   \n",
       "2  Test103   F     1    3                       2                   1   \n",
       "3  Test104   F     0    4                       2                   0   \n",
       "4  Test105   F     0    5                       2                   3   \n",
       "\n",
       "   Poverty Status  SAD  GAD  Social Phobia  ...  Frequency Temper Tantrums  \\\n",
       "0             0.0    0    1            1.0  ...                         27   \n",
       "1             1.0    0    0            0.0  ...                        282   \n",
       "2             0.0    1    0            0.0  ...                          3   \n",
       "3             0.0    0    0            0.0  ...                         30   \n",
       "4             0.0    1    1            1.0  ...                        637   \n",
       "\n",
       "   Frequency Irritable Mood  Number of Sleep Disturbances  \\\n",
       "0                       396                             4   \n",
       "1                      1179                             6   \n",
       "2                         0                             9   \n",
       "3                        45                             6   \n",
       "4                      1170                            10   \n",
       "\n",
       "   Number of Physical Symptoms  Number of Sensory Sensitivities  \\\n",
       "0                            3                                2   \n",
       "1                            1                                0   \n",
       "2                            4                                1   \n",
       "3                            0                                0   \n",
       "4                            5                                2   \n",
       "\n",
       "   Family History - Substance Abuse  Family History - Psychiatric Diagnosis  \\\n",
       "0                                 0                                       0   \n",
       "1                                 1                                       1   \n",
       "2                                 0                                       0   \n",
       "3                                 0                                       1   \n",
       "4                                 0                                       0   \n",
       "\n",
       "   GAD Probabiliy - Gamma  SAD Probability - Gamma  Sample Weight  \n",
       "0                1.596957                 0.067867       0.572227  \n",
       "1                0.032650                 0.068811       0.396157  \n",
       "2                0.005782                 0.270583       0.686673  \n",
       "3                1.596957                 0.068811       0.400559  \n",
       "4                1.596957                47.355899       0.314725  \n",
       "\n",
       "[5 rows x 27 columns]"
      ]
     },
     "execution_count": 3,
     "metadata": {},
     "output_type": "execute_result"
    }
   ],
   "source": [
    "# import csv\n",
    "mental_health = pd.read_excel(\"Testing_Data.xlsx\")\n",
    "mental_health.head()"
   ]
  },
  {
   "cell_type": "code",
   "execution_count": 9,
   "metadata": {},
   "outputs": [
    {
     "data": {
      "text/plain": [
       "307"
      ]
     },
     "execution_count": 9,
     "metadata": {},
     "output_type": "execute_result"
    }
   ],
   "source": [
    "# subject count\n",
    "mental_health['Subject'].count()"
   ]
  },
  {
   "cell_type": "code",
   "execution_count": 12,
   "metadata": {},
   "outputs": [],
   "source": [
    "# drop any rows w/ a null value\n",
    "mental_health_df = mental_health.dropna()"
   ]
  },
  {
   "cell_type": "code",
   "execution_count": 13,
   "metadata": {},
   "outputs": [
    {
     "data": {
      "text/plain": [
       "287"
      ]
     },
     "execution_count": 13,
     "metadata": {},
     "output_type": "execute_result"
    }
   ],
   "source": [
    "# new subject count without nnull values\n",
    "mental_health_df['Subject'].count()"
   ]
  },
  {
   "cell_type": "code",
   "execution_count": 14,
   "metadata": {},
   "outputs": [],
   "source": [
    "# Save to csv\n",
    "mental_health_df.to_csv(\"../cleaned_data/cleaned_anxiety_testing_data.csv\")"
   ]
  },
  {
   "cell_type": "code",
   "execution_count": 15,
   "metadata": {},
   "outputs": [
    {
     "data": {
      "text/plain": [
       "Index(['Subject', 'Sex', 'Race', 'Age', 'Number of Bio. Parents',\n",
       "       'Number of Siblings', 'Poverty Status', 'SAD', 'GAD', 'Social Phobia',\n",
       "       'ADHD', 'CD', 'Depression', 'ODD', 'Number of Impairments',\n",
       "       'Number of Type A Stressors', 'Number of Type B Stressors',\n",
       "       'Frequency Temper Tantrums', 'Frequency Irritable Mood',\n",
       "       'Number of Sleep Disturbances', 'Number of Physical Symptoms',\n",
       "       'Number of Sensory Sensitivities', 'Family History - Substance Abuse',\n",
       "       'Family History - Psychiatric Diagnosis', 'GAD Probabiliy - Gamma',\n",
       "       'SAD Probability - Gamma', 'Sample Weight'],\n",
       "      dtype='object')"
      ]
     },
     "execution_count": 15,
     "metadata": {},
     "output_type": "execute_result"
    }
   ],
   "source": [
    "# view columns\n",
    "mental_health.columns"
   ]
  },
  {
   "cell_type": "code",
   "execution_count": null,
   "metadata": {},
   "outputs": [],
   "source": []
  }
 ],
 "metadata": {
  "kernelspec": {
   "display_name": "Python 3",
   "language": "python",
   "name": "python3"
  },
  "language_info": {
   "codemirror_mode": {
    "name": "ipython",
    "version": 3
   },
   "file_extension": ".py",
   "mimetype": "text/x-python",
   "name": "python",
   "nbconvert_exporter": "python",
   "pygments_lexer": "ipython3",
   "version": "3.7.3"
  }
 },
 "nbformat": 4,
 "nbformat_minor": 2
}
