{
 "cells": [
  {
   "cell_type": "code",
   "execution_count": 1,
   "metadata": {},
   "outputs": [],
   "source": [
    "import matplotlib.pyplot as plt\n",
    "from sklearn.neighbors import KNeighborsClassifier\n",
    "import pandas as pd\n",
    "import os\n",
    "from sklearn.model_selection import train_test_split\n",
    "from sklearn.neighbors import KNeighborsClassifier\n",
    "import numpy as np"
   ]
  },
  {
   "cell_type": "code",
   "execution_count": 2,
   "metadata": {},
   "outputs": [
    {
     "data": {
      "text/html": [
       "<div>\n",
       "<style scoped>\n",
       "    .dataframe tbody tr th:only-of-type {\n",
       "        vertical-align: middle;\n",
       "    }\n",
       "\n",
       "    .dataframe tbody tr th {\n",
       "        vertical-align: top;\n",
       "    }\n",
       "\n",
       "    .dataframe thead th {\n",
       "        text-align: right;\n",
       "    }\n",
       "</style>\n",
       "<table border=\"1\" class=\"dataframe\">\n",
       "  <thead>\n",
       "    <tr style=\"text-align: right;\">\n",
       "      <th></th>\n",
       "      <th>Unnamed: 0</th>\n",
       "      <th>Sex</th>\n",
       "      <th>Race</th>\n",
       "      <th>Age</th>\n",
       "      <th>Number of Bio. Parents</th>\n",
       "      <th>Number of Siblings</th>\n",
       "      <th>Poverty Status</th>\n",
       "      <th>GAD</th>\n",
       "      <th>Social Phobia</th>\n",
       "      <th>ADHD</th>\n",
       "      <th>...</th>\n",
       "      <th>Number of Impairments</th>\n",
       "      <th>Number of Type A Stressors</th>\n",
       "      <th>Number of Type B Stressors</th>\n",
       "      <th>Frequency Temper Tantrums</th>\n",
       "      <th>Frequency Irritable Mood</th>\n",
       "      <th>Number of Sleep Disturbances</th>\n",
       "      <th>Number of Physical Symptoms</th>\n",
       "      <th>Number of Sensory Sensitivities</th>\n",
       "      <th>Family History - Substance Abuse</th>\n",
       "      <th>Family History - Psychiatric Diagnosis</th>\n",
       "    </tr>\n",
       "  </thead>\n",
       "  <tbody>\n",
       "    <tr>\n",
       "      <th>0</th>\n",
       "      <td>0</td>\n",
       "      <td>1</td>\n",
       "      <td>0</td>\n",
       "      <td>2</td>\n",
       "      <td>1</td>\n",
       "      <td>1</td>\n",
       "      <td>0</td>\n",
       "      <td>1</td>\n",
       "      <td>1</td>\n",
       "      <td>0</td>\n",
       "      <td>...</td>\n",
       "      <td>4</td>\n",
       "      <td>1</td>\n",
       "      <td>1</td>\n",
       "      <td>27</td>\n",
       "      <td>396</td>\n",
       "      <td>4</td>\n",
       "      <td>3</td>\n",
       "      <td>2</td>\n",
       "      <td>0</td>\n",
       "      <td>0</td>\n",
       "    </tr>\n",
       "    <tr>\n",
       "      <th>1</th>\n",
       "      <td>1</td>\n",
       "      <td>0</td>\n",
       "      <td>1</td>\n",
       "      <td>2</td>\n",
       "      <td>0</td>\n",
       "      <td>3</td>\n",
       "      <td>1</td>\n",
       "      <td>0</td>\n",
       "      <td>0</td>\n",
       "      <td>1</td>\n",
       "      <td>...</td>\n",
       "      <td>5</td>\n",
       "      <td>3</td>\n",
       "      <td>2</td>\n",
       "      <td>282</td>\n",
       "      <td>1179</td>\n",
       "      <td>6</td>\n",
       "      <td>1</td>\n",
       "      <td>0</td>\n",
       "      <td>1</td>\n",
       "      <td>1</td>\n",
       "    </tr>\n",
       "    <tr>\n",
       "      <th>2</th>\n",
       "      <td>2</td>\n",
       "      <td>1</td>\n",
       "      <td>1</td>\n",
       "      <td>3</td>\n",
       "      <td>2</td>\n",
       "      <td>1</td>\n",
       "      <td>0</td>\n",
       "      <td>0</td>\n",
       "      <td>0</td>\n",
       "      <td>0</td>\n",
       "      <td>...</td>\n",
       "      <td>0</td>\n",
       "      <td>1</td>\n",
       "      <td>0</td>\n",
       "      <td>3</td>\n",
       "      <td>0</td>\n",
       "      <td>9</td>\n",
       "      <td>4</td>\n",
       "      <td>1</td>\n",
       "      <td>0</td>\n",
       "      <td>0</td>\n",
       "    </tr>\n",
       "    <tr>\n",
       "      <th>3</th>\n",
       "      <td>3</td>\n",
       "      <td>1</td>\n",
       "      <td>0</td>\n",
       "      <td>4</td>\n",
       "      <td>2</td>\n",
       "      <td>0</td>\n",
       "      <td>0</td>\n",
       "      <td>0</td>\n",
       "      <td>0</td>\n",
       "      <td>0</td>\n",
       "      <td>...</td>\n",
       "      <td>0</td>\n",
       "      <td>2</td>\n",
       "      <td>0</td>\n",
       "      <td>30</td>\n",
       "      <td>45</td>\n",
       "      <td>6</td>\n",
       "      <td>0</td>\n",
       "      <td>0</td>\n",
       "      <td>0</td>\n",
       "      <td>1</td>\n",
       "    </tr>\n",
       "    <tr>\n",
       "      <th>4</th>\n",
       "      <td>4</td>\n",
       "      <td>1</td>\n",
       "      <td>0</td>\n",
       "      <td>5</td>\n",
       "      <td>2</td>\n",
       "      <td>3</td>\n",
       "      <td>0</td>\n",
       "      <td>1</td>\n",
       "      <td>1</td>\n",
       "      <td>0</td>\n",
       "      <td>...</td>\n",
       "      <td>7</td>\n",
       "      <td>3</td>\n",
       "      <td>8</td>\n",
       "      <td>637</td>\n",
       "      <td>1170</td>\n",
       "      <td>10</td>\n",
       "      <td>5</td>\n",
       "      <td>2</td>\n",
       "      <td>0</td>\n",
       "      <td>0</td>\n",
       "    </tr>\n",
       "  </tbody>\n",
       "</table>\n",
       "<p>5 rows × 23 columns</p>\n",
       "</div>"
      ],
      "text/plain": [
       "   Unnamed: 0  Sex  Race  Age  Number of Bio. Parents  Number of Siblings  \\\n",
       "0           0    1     0    2                       1                   1   \n",
       "1           1    0     1    2                       0                   3   \n",
       "2           2    1     1    3                       2                   1   \n",
       "3           3    1     0    4                       2                   0   \n",
       "4           4    1     0    5                       2                   3   \n",
       "\n",
       "   Poverty Status  GAD  Social Phobia  ADHD  ...  Number of Impairments  \\\n",
       "0               0    1              1     0  ...                      4   \n",
       "1               1    0              0     1  ...                      5   \n",
       "2               0    0              0     0  ...                      0   \n",
       "3               0    0              0     0  ...                      0   \n",
       "4               0    1              1     0  ...                      7   \n",
       "\n",
       "   Number of Type A Stressors  Number of Type B Stressors  \\\n",
       "0                           1                           1   \n",
       "1                           3                           2   \n",
       "2                           1                           0   \n",
       "3                           2                           0   \n",
       "4                           3                           8   \n",
       "\n",
       "   Frequency Temper Tantrums  Frequency Irritable Mood  \\\n",
       "0                         27                       396   \n",
       "1                        282                      1179   \n",
       "2                          3                         0   \n",
       "3                         30                        45   \n",
       "4                        637                      1170   \n",
       "\n",
       "   Number of Sleep Disturbances  Number of Physical Symptoms  \\\n",
       "0                             4                            3   \n",
       "1                             6                            1   \n",
       "2                             9                            4   \n",
       "3                             6                            0   \n",
       "4                            10                            5   \n",
       "\n",
       "   Number of Sensory Sensitivities  Family History - Substance Abuse  \\\n",
       "0                                2                                 0   \n",
       "1                                0                                 1   \n",
       "2                                1                                 0   \n",
       "3                                0                                 0   \n",
       "4                                2                                 0   \n",
       "\n",
       "   Family History - Psychiatric Diagnosis  \n",
       "0                                       0  \n",
       "1                                       1  \n",
       "2                                       0  \n",
       "3                                       1  \n",
       "4                                       0  \n",
       "\n",
       "[5 rows x 23 columns]"
      ]
     },
     "execution_count": 2,
     "metadata": {},
     "output_type": "execute_result"
    }
   ],
   "source": [
    "# import CSV\n",
    "\n",
    "df = pd.read_csv('GAD_cleaned.csv')\n",
    "df.head()"
   ]
  },
  {
   "cell_type": "code",
   "execution_count": 3,
   "metadata": {},
   "outputs": [
    {
     "data": {
      "text/html": [
       "<div>\n",
       "<style scoped>\n",
       "    .dataframe tbody tr th:only-of-type {\n",
       "        vertical-align: middle;\n",
       "    }\n",
       "\n",
       "    .dataframe tbody tr th {\n",
       "        vertical-align: top;\n",
       "    }\n",
       "\n",
       "    .dataframe thead th {\n",
       "        text-align: right;\n",
       "    }\n",
       "</style>\n",
       "<table border=\"1\" class=\"dataframe\">\n",
       "  <thead>\n",
       "    <tr style=\"text-align: right;\">\n",
       "      <th></th>\n",
       "      <th>Sex</th>\n",
       "      <th>Race</th>\n",
       "      <th>Age</th>\n",
       "      <th>Number of Bio. Parents</th>\n",
       "      <th>Number of Siblings</th>\n",
       "      <th>Poverty Status</th>\n",
       "      <th>GAD</th>\n",
       "      <th>Social Phobia</th>\n",
       "      <th>ADHD</th>\n",
       "      <th>CD</th>\n",
       "      <th>...</th>\n",
       "      <th>Number of Impairments</th>\n",
       "      <th>Number of Type A Stressors</th>\n",
       "      <th>Number of Type B Stressors</th>\n",
       "      <th>Frequency Temper Tantrums</th>\n",
       "      <th>Frequency Irritable Mood</th>\n",
       "      <th>Number of Sleep Disturbances</th>\n",
       "      <th>Number of Physical Symptoms</th>\n",
       "      <th>Number of Sensory Sensitivities</th>\n",
       "      <th>Family History - Substance Abuse</th>\n",
       "      <th>Family History - Psychiatric Diagnosis</th>\n",
       "    </tr>\n",
       "  </thead>\n",
       "  <tbody>\n",
       "    <tr>\n",
       "      <th>0</th>\n",
       "      <td>1</td>\n",
       "      <td>0</td>\n",
       "      <td>2</td>\n",
       "      <td>1</td>\n",
       "      <td>1</td>\n",
       "      <td>0</td>\n",
       "      <td>1</td>\n",
       "      <td>1</td>\n",
       "      <td>0</td>\n",
       "      <td>0</td>\n",
       "      <td>...</td>\n",
       "      <td>4</td>\n",
       "      <td>1</td>\n",
       "      <td>1</td>\n",
       "      <td>27</td>\n",
       "      <td>396</td>\n",
       "      <td>4</td>\n",
       "      <td>3</td>\n",
       "      <td>2</td>\n",
       "      <td>0</td>\n",
       "      <td>0</td>\n",
       "    </tr>\n",
       "    <tr>\n",
       "      <th>1</th>\n",
       "      <td>0</td>\n",
       "      <td>1</td>\n",
       "      <td>2</td>\n",
       "      <td>0</td>\n",
       "      <td>3</td>\n",
       "      <td>1</td>\n",
       "      <td>0</td>\n",
       "      <td>0</td>\n",
       "      <td>1</td>\n",
       "      <td>0</td>\n",
       "      <td>...</td>\n",
       "      <td>5</td>\n",
       "      <td>3</td>\n",
       "      <td>2</td>\n",
       "      <td>282</td>\n",
       "      <td>1179</td>\n",
       "      <td>6</td>\n",
       "      <td>1</td>\n",
       "      <td>0</td>\n",
       "      <td>1</td>\n",
       "      <td>1</td>\n",
       "    </tr>\n",
       "    <tr>\n",
       "      <th>2</th>\n",
       "      <td>1</td>\n",
       "      <td>1</td>\n",
       "      <td>3</td>\n",
       "      <td>2</td>\n",
       "      <td>1</td>\n",
       "      <td>0</td>\n",
       "      <td>0</td>\n",
       "      <td>0</td>\n",
       "      <td>0</td>\n",
       "      <td>0</td>\n",
       "      <td>...</td>\n",
       "      <td>0</td>\n",
       "      <td>1</td>\n",
       "      <td>0</td>\n",
       "      <td>3</td>\n",
       "      <td>0</td>\n",
       "      <td>9</td>\n",
       "      <td>4</td>\n",
       "      <td>1</td>\n",
       "      <td>0</td>\n",
       "      <td>0</td>\n",
       "    </tr>\n",
       "    <tr>\n",
       "      <th>3</th>\n",
       "      <td>1</td>\n",
       "      <td>0</td>\n",
       "      <td>4</td>\n",
       "      <td>2</td>\n",
       "      <td>0</td>\n",
       "      <td>0</td>\n",
       "      <td>0</td>\n",
       "      <td>0</td>\n",
       "      <td>0</td>\n",
       "      <td>0</td>\n",
       "      <td>...</td>\n",
       "      <td>0</td>\n",
       "      <td>2</td>\n",
       "      <td>0</td>\n",
       "      <td>30</td>\n",
       "      <td>45</td>\n",
       "      <td>6</td>\n",
       "      <td>0</td>\n",
       "      <td>0</td>\n",
       "      <td>0</td>\n",
       "      <td>1</td>\n",
       "    </tr>\n",
       "    <tr>\n",
       "      <th>4</th>\n",
       "      <td>1</td>\n",
       "      <td>0</td>\n",
       "      <td>5</td>\n",
       "      <td>2</td>\n",
       "      <td>3</td>\n",
       "      <td>0</td>\n",
       "      <td>1</td>\n",
       "      <td>1</td>\n",
       "      <td>0</td>\n",
       "      <td>1</td>\n",
       "      <td>...</td>\n",
       "      <td>7</td>\n",
       "      <td>3</td>\n",
       "      <td>8</td>\n",
       "      <td>637</td>\n",
       "      <td>1170</td>\n",
       "      <td>10</td>\n",
       "      <td>5</td>\n",
       "      <td>2</td>\n",
       "      <td>0</td>\n",
       "      <td>0</td>\n",
       "    </tr>\n",
       "  </tbody>\n",
       "</table>\n",
       "<p>5 rows × 22 columns</p>\n",
       "</div>"
      ],
      "text/plain": [
       "   Sex  Race  Age  Number of Bio. Parents  Number of Siblings  Poverty Status  \\\n",
       "0    1     0    2                       1                   1               0   \n",
       "1    0     1    2                       0                   3               1   \n",
       "2    1     1    3                       2                   1               0   \n",
       "3    1     0    4                       2                   0               0   \n",
       "4    1     0    5                       2                   3               0   \n",
       "\n",
       "   GAD  Social Phobia  ADHD  CD  ...  Number of Impairments  \\\n",
       "0    1              1     0   0  ...                      4   \n",
       "1    0              0     1   0  ...                      5   \n",
       "2    0              0     0   0  ...                      0   \n",
       "3    0              0     0   0  ...                      0   \n",
       "4    1              1     0   1  ...                      7   \n",
       "\n",
       "   Number of Type A Stressors  Number of Type B Stressors  \\\n",
       "0                           1                           1   \n",
       "1                           3                           2   \n",
       "2                           1                           0   \n",
       "3                           2                           0   \n",
       "4                           3                           8   \n",
       "\n",
       "   Frequency Temper Tantrums  Frequency Irritable Mood  \\\n",
       "0                         27                       396   \n",
       "1                        282                      1179   \n",
       "2                          3                         0   \n",
       "3                         30                        45   \n",
       "4                        637                      1170   \n",
       "\n",
       "   Number of Sleep Disturbances  Number of Physical Symptoms  \\\n",
       "0                             4                            3   \n",
       "1                             6                            1   \n",
       "2                             9                            4   \n",
       "3                             6                            0   \n",
       "4                            10                            5   \n",
       "\n",
       "   Number of Sensory Sensitivities  Family History - Substance Abuse  \\\n",
       "0                                2                                 0   \n",
       "1                                0                                 1   \n",
       "2                                1                                 0   \n",
       "3                                0                                 0   \n",
       "4                                2                                 0   \n",
       "\n",
       "   Family History - Psychiatric Diagnosis  \n",
       "0                                       0  \n",
       "1                                       1  \n",
       "2                                       0  \n",
       "3                                       1  \n",
       "4                                       0  \n",
       "\n",
       "[5 rows x 22 columns]"
      ]
     },
     "execution_count": 3,
     "metadata": {},
     "output_type": "execute_result"
    }
   ],
   "source": [
    "df = df.drop(['Unnamed: 0'], axis=1)\n",
    "df.head()"
   ]
  },
  {
   "cell_type": "code",
   "execution_count": 4,
   "metadata": {},
   "outputs": [
    {
     "data": {
      "text/html": [
       "<div>\n",
       "<style scoped>\n",
       "    .dataframe tbody tr th:only-of-type {\n",
       "        vertical-align: middle;\n",
       "    }\n",
       "\n",
       "    .dataframe tbody tr th {\n",
       "        vertical-align: top;\n",
       "    }\n",
       "\n",
       "    .dataframe thead th {\n",
       "        text-align: right;\n",
       "    }\n",
       "</style>\n",
       "<table border=\"1\" class=\"dataframe\">\n",
       "  <thead>\n",
       "    <tr style=\"text-align: right;\">\n",
       "      <th></th>\n",
       "      <th>Sex</th>\n",
       "      <th>Race</th>\n",
       "      <th>Age</th>\n",
       "      <th>Number of Bio. Parents</th>\n",
       "      <th>Number of Siblings</th>\n",
       "      <th>Poverty Status</th>\n",
       "      <th>Social Phobia</th>\n",
       "      <th>ADHD</th>\n",
       "      <th>CD</th>\n",
       "      <th>Depression</th>\n",
       "      <th>...</th>\n",
       "      <th>Number of Impairments</th>\n",
       "      <th>Number of Type A Stressors</th>\n",
       "      <th>Number of Type B Stressors</th>\n",
       "      <th>Frequency Temper Tantrums</th>\n",
       "      <th>Frequency Irritable Mood</th>\n",
       "      <th>Number of Sleep Disturbances</th>\n",
       "      <th>Number of Physical Symptoms</th>\n",
       "      <th>Number of Sensory Sensitivities</th>\n",
       "      <th>Family History - Substance Abuse</th>\n",
       "      <th>Family History - Psychiatric Diagnosis</th>\n",
       "    </tr>\n",
       "  </thead>\n",
       "  <tbody>\n",
       "    <tr>\n",
       "      <th>0</th>\n",
       "      <td>1</td>\n",
       "      <td>0</td>\n",
       "      <td>2</td>\n",
       "      <td>1</td>\n",
       "      <td>1</td>\n",
       "      <td>0</td>\n",
       "      <td>1</td>\n",
       "      <td>0</td>\n",
       "      <td>0</td>\n",
       "      <td>1</td>\n",
       "      <td>...</td>\n",
       "      <td>4</td>\n",
       "      <td>1</td>\n",
       "      <td>1</td>\n",
       "      <td>27</td>\n",
       "      <td>396</td>\n",
       "      <td>4</td>\n",
       "      <td>3</td>\n",
       "      <td>2</td>\n",
       "      <td>0</td>\n",
       "      <td>0</td>\n",
       "    </tr>\n",
       "    <tr>\n",
       "      <th>1</th>\n",
       "      <td>0</td>\n",
       "      <td>1</td>\n",
       "      <td>2</td>\n",
       "      <td>0</td>\n",
       "      <td>3</td>\n",
       "      <td>1</td>\n",
       "      <td>0</td>\n",
       "      <td>1</td>\n",
       "      <td>0</td>\n",
       "      <td>0</td>\n",
       "      <td>...</td>\n",
       "      <td>5</td>\n",
       "      <td>3</td>\n",
       "      <td>2</td>\n",
       "      <td>282</td>\n",
       "      <td>1179</td>\n",
       "      <td>6</td>\n",
       "      <td>1</td>\n",
       "      <td>0</td>\n",
       "      <td>1</td>\n",
       "      <td>1</td>\n",
       "    </tr>\n",
       "    <tr>\n",
       "      <th>2</th>\n",
       "      <td>1</td>\n",
       "      <td>1</td>\n",
       "      <td>3</td>\n",
       "      <td>2</td>\n",
       "      <td>1</td>\n",
       "      <td>0</td>\n",
       "      <td>0</td>\n",
       "      <td>0</td>\n",
       "      <td>0</td>\n",
       "      <td>0</td>\n",
       "      <td>...</td>\n",
       "      <td>0</td>\n",
       "      <td>1</td>\n",
       "      <td>0</td>\n",
       "      <td>3</td>\n",
       "      <td>0</td>\n",
       "      <td>9</td>\n",
       "      <td>4</td>\n",
       "      <td>1</td>\n",
       "      <td>0</td>\n",
       "      <td>0</td>\n",
       "    </tr>\n",
       "    <tr>\n",
       "      <th>3</th>\n",
       "      <td>1</td>\n",
       "      <td>0</td>\n",
       "      <td>4</td>\n",
       "      <td>2</td>\n",
       "      <td>0</td>\n",
       "      <td>0</td>\n",
       "      <td>0</td>\n",
       "      <td>0</td>\n",
       "      <td>0</td>\n",
       "      <td>0</td>\n",
       "      <td>...</td>\n",
       "      <td>0</td>\n",
       "      <td>2</td>\n",
       "      <td>0</td>\n",
       "      <td>30</td>\n",
       "      <td>45</td>\n",
       "      <td>6</td>\n",
       "      <td>0</td>\n",
       "      <td>0</td>\n",
       "      <td>0</td>\n",
       "      <td>1</td>\n",
       "    </tr>\n",
       "    <tr>\n",
       "      <th>4</th>\n",
       "      <td>1</td>\n",
       "      <td>0</td>\n",
       "      <td>5</td>\n",
       "      <td>2</td>\n",
       "      <td>3</td>\n",
       "      <td>0</td>\n",
       "      <td>1</td>\n",
       "      <td>0</td>\n",
       "      <td>1</td>\n",
       "      <td>1</td>\n",
       "      <td>...</td>\n",
       "      <td>7</td>\n",
       "      <td>3</td>\n",
       "      <td>8</td>\n",
       "      <td>637</td>\n",
       "      <td>1170</td>\n",
       "      <td>10</td>\n",
       "      <td>5</td>\n",
       "      <td>2</td>\n",
       "      <td>0</td>\n",
       "      <td>0</td>\n",
       "    </tr>\n",
       "  </tbody>\n",
       "</table>\n",
       "<p>5 rows × 21 columns</p>\n",
       "</div>"
      ],
      "text/plain": [
       "   Sex  Race  Age  Number of Bio. Parents  Number of Siblings  Poverty Status  \\\n",
       "0    1     0    2                       1                   1               0   \n",
       "1    0     1    2                       0                   3               1   \n",
       "2    1     1    3                       2                   1               0   \n",
       "3    1     0    4                       2                   0               0   \n",
       "4    1     0    5                       2                   3               0   \n",
       "\n",
       "   Social Phobia  ADHD  CD  Depression  ...  Number of Impairments  \\\n",
       "0              1     0   0           1  ...                      4   \n",
       "1              0     1   0           0  ...                      5   \n",
       "2              0     0   0           0  ...                      0   \n",
       "3              0     0   0           0  ...                      0   \n",
       "4              1     0   1           1  ...                      7   \n",
       "\n",
       "   Number of Type A Stressors  Number of Type B Stressors  \\\n",
       "0                           1                           1   \n",
       "1                           3                           2   \n",
       "2                           1                           0   \n",
       "3                           2                           0   \n",
       "4                           3                           8   \n",
       "\n",
       "   Frequency Temper Tantrums  Frequency Irritable Mood  \\\n",
       "0                         27                       396   \n",
       "1                        282                      1179   \n",
       "2                          3                         0   \n",
       "3                         30                        45   \n",
       "4                        637                      1170   \n",
       "\n",
       "   Number of Sleep Disturbances  Number of Physical Symptoms  \\\n",
       "0                             4                            3   \n",
       "1                             6                            1   \n",
       "2                             9                            4   \n",
       "3                             6                            0   \n",
       "4                            10                            5   \n",
       "\n",
       "   Number of Sensory Sensitivities  Family History - Substance Abuse  \\\n",
       "0                                2                                 0   \n",
       "1                                0                                 1   \n",
       "2                                1                                 0   \n",
       "3                                0                                 0   \n",
       "4                                2                                 0   \n",
       "\n",
       "   Family History - Psychiatric Diagnosis  \n",
       "0                                       0  \n",
       "1                                       1  \n",
       "2                                       0  \n",
       "3                                       1  \n",
       "4                                       0  \n",
       "\n",
       "[5 rows x 21 columns]"
      ]
     },
     "execution_count": 4,
     "metadata": {},
     "output_type": "execute_result"
    }
   ],
   "source": [
    "# split into inputs and outputs\n",
    "outcomes = df['GAD']\n",
    "outcomes.head()\n",
    "\n",
    "input_factors = df.drop(['GAD'], axis = 1)\n",
    "input_factors.head()"
   ]
  },
  {
   "cell_type": "code",
   "execution_count": 5,
   "metadata": {},
   "outputs": [],
   "source": [
    "# Train/test Split\n",
    "input_train, input_test, output_train, output_test = train_test_split(input_factors, outcomes, random_state=42, \n",
    "                                                                      stratify=outcomes)"
   ]
  },
  {
   "cell_type": "code",
   "execution_count": 6,
   "metadata": {},
   "outputs": [
    {
     "name": "stderr",
     "output_type": "stream",
     "text": [
      "C:\\ProgramData\\Anaconda3\\lib\\site-packages\\sklearn\\utils\\validation.py:595: DataConversionWarning: Data with input dtype int64 was converted to float64 by StandardScaler.\n",
      "  warnings.warn(msg, DataConversionWarning)\n"
     ]
    }
   ],
   "source": [
    " from sklearn.preprocessing import StandardScaler\n",
    "\n",
    "# Create a StandardScater model and fit it to the training data\n",
    "\n",
    "input_scaler = StandardScaler().fit(input_train.values.reshape(-1, 1))"
   ]
  },
  {
   "cell_type": "code",
   "execution_count": 7,
   "metadata": {},
   "outputs": [
    {
     "name": "stderr",
     "output_type": "stream",
     "text": [
      "C:\\ProgramData\\Anaconda3\\lib\\site-packages\\ipykernel_launcher.py:3: DataConversionWarning: Data with input dtype int64 were all converted to float64 by StandardScaler.\n",
      "  This is separate from the ipykernel package so we can avoid doing imports until\n",
      "C:\\ProgramData\\Anaconda3\\lib\\site-packages\\ipykernel_launcher.py:4: DataConversionWarning: Data with input dtype int64 were all converted to float64 by StandardScaler.\n",
      "  after removing the cwd from sys.path.\n"
     ]
    }
   ],
   "source": [
    " # Transform the training and testing data using the X_scaler and y_scaler models\n",
    "\n",
    "input_train_scaled = input_scaler.transform(input_train)\n",
    "input_test_scaled = input_scaler.transform(input_test)"
   ]
  },
  {
   "cell_type": "code",
   "execution_count": 8,
   "metadata": {},
   "outputs": [
    {
     "name": "stdout",
     "output_type": "stream",
     "text": [
      "k: 1, Train/Test Score: 1.000/0.764\n",
      "k: 3, Train/Test Score: 0.865/0.819\n",
      "k: 5, Train/Test Score: 0.865/0.819\n",
      "k: 7, Train/Test Score: 0.860/0.847\n",
      "k: 9, Train/Test Score: 0.847/0.833\n",
      "k: 11, Train/Test Score: 0.851/0.847\n",
      "k: 13, Train/Test Score: 0.847/0.847\n",
      "k: 15, Train/Test Score: 0.847/0.847\n",
      "k: 17, Train/Test Score: 0.847/0.847\n",
      "k: 19, Train/Test Score: 0.847/0.847\n"
     ]
    },
    {
     "data": {
      "image/png": "[encoded data removed]",
      "text/plain": [
       "<Figure size 432x288 with 1 Axes>"
      ]
     },
     "metadata": {
      "needs_background": "light"
     },
     "output_type": "display_data"
    }
   ],
   "source": [
    "# Loop through different k values to see which has the highest accuracy\n",
    "# Note: We only use odd numbers because we don't want any ties\n",
    "train_scores = []\n",
    "test_scores = []\n",
    "for k in range(1, 20, 2):\n",
    "    knn = KNeighborsClassifier(n_neighbors=k)\n",
    "    knn.fit(input_train_scaled, output_train)\n",
    "    train_score = knn.score(input_train_scaled, output_train)\n",
    "    test_score = knn.score(input_test_scaled, output_test)\n",
    "    train_scores.append(train_score)\n",
    "    test_scores.append(test_score)\n",
    "    print(f\"k: {k}, Train/Test Score: {train_score:.3f}/{test_score:.3f}\")\n",
    "    \n",
    "    \n",
    "plt.plot(range(1, 20, 2), train_scores, marker='o')\n",
    "plt.plot(range(1, 20, 2), test_scores, marker=\"x\")\n",
    "plt.xlabel(\"k neighbors\")\n",
    "plt.ylabel(\"Testing accuracy Score\")\n",
    "plt.show()"
   ]
  },
  {
   "cell_type": "code",
   "execution_count": 9,
   "metadata": {},
   "outputs": [
    {
     "name": "stdout",
     "output_type": "stream",
     "text": [
      "k=1 Test Acc: 0.778\n"
     ]
    }
   ],
   "source": [
    "knn = KNeighborsClassifier(n_neighbors=1)\n",
    "knn.fit(input_train, output_train)\n",
    "print('k=1 Test Acc: %.3f' % knn.score(input_test, output_test))"
   ]
  },
  {
   "cell_type": "code",
   "execution_count": 10,
   "metadata": {},
   "outputs": [
    {
     "name": "stdout",
     "output_type": "stream",
     "text": [
      "k=2 Test Acc: 0.847\n"
     ]
    }
   ],
   "source": [
    "knn = KNeighborsClassifier(n_neighbors=2)\n",
    "knn.fit(input_train, output_train)\n",
    "print('k=2 Test Acc: %.3f' % knn.score(input_test, output_test))"
   ]
  },
  {
   "cell_type": "code",
   "execution_count": 11,
   "metadata": {},
   "outputs": [
    {
     "name": "stdout",
     "output_type": "stream",
     "text": [
      "k=3 Test Acc: 0.819\n"
     ]
    }
   ],
   "source": [
    "knn = KNeighborsClassifier(n_neighbors=3)\n",
    "knn.fit(input_train, output_train)\n",
    "print('k=3 Test Acc: %.3f' % knn.score(input_test, output_test))"
   ]
  },
  {
   "cell_type": "code",
   "execution_count": 12,
   "metadata": {},
   "outputs": [
    {
     "name": "stdout",
     "output_type": "stream",
     "text": [
      "k=4 Test Acc: 0.833\n"
     ]
    }
   ],
   "source": [
    "knn = KNeighborsClassifier(n_neighbors=4)\n",
    "knn.fit(input_train, output_train)\n",
    "print('k=4 Test Acc: %.3f' % knn.score(input_test, output_test))"
   ]
  },
  {
   "cell_type": "code",
   "execution_count": 13,
   "metadata": {},
   "outputs": [
    {
     "name": "stdout",
     "output_type": "stream",
     "text": [
      "k=5 Test Acc: 0.819\n"
     ]
    }
   ],
   "source": [
    "knn = KNeighborsClassifier(n_neighbors=5)\n",
    "knn.fit(input_train, output_train)\n",
    "print('k=5 Test Acc: %.3f' % knn.score(input_test, output_test))"
   ]
  },
  {
   "cell_type": "code",
   "execution_count": 14,
   "metadata": {},
   "outputs": [
    {
     "name": "stdout",
     "output_type": "stream",
     "text": [
      "k=6 Test Acc: 0.847\n"
     ]
    }
   ],
   "source": [
    "knn = KNeighborsClassifier(n_neighbors=6)\n",
    "knn.fit(input_train, output_train)\n",
    "print('k=6 Test Acc: %.3f' % knn.score(input_test, output_test))"
   ]
  },
  {
   "cell_type": "code",
   "execution_count": 15,
   "metadata": {},
   "outputs": [
    {
     "name": "stdout",
     "output_type": "stream",
     "text": [
      "k=7 Test Acc: 0.847\n"
     ]
    }
   ],
   "source": [
    "knn = KNeighborsClassifier(n_neighbors=7)\n",
    "knn.fit(input_train, output_train)\n",
    "print('k=7 Test Acc: %.3f' % knn.score(input_test, output_test))"
   ]
  },
  {
   "cell_type": "code",
   "execution_count": 16,
   "metadata": {},
   "outputs": [
    {
     "name": "stdout",
     "output_type": "stream",
     "text": [
      "k=8 Test Acc: 0.847\n"
     ]
    }
   ],
   "source": [
    "knn = KNeighborsClassifier(n_neighbors=8)\n",
    "knn.fit(input_train, output_train)\n",
    "print('k=8 Test Acc: %.3f' % knn.score(input_test, output_test))"
   ]
  },
  {
   "cell_type": "code",
   "execution_count": 17,
   "metadata": {},
   "outputs": [
    {
     "name": "stdout",
     "output_type": "stream",
     "text": [
      "k=9 Test Acc: 0.833\n"
     ]
    }
   ],
   "source": [
    "knn = KNeighborsClassifier(n_neighbors=9)\n",
    "knn.fit(input_train, output_train)\n",
    "print('k=9 Test Acc: %.3f' % knn.score(input_test, output_test))"
   ]
  },
  {
   "cell_type": "code",
   "execution_count": 18,
   "metadata": {},
   "outputs": [
    {
     "name": "stdout",
     "output_type": "stream",
     "text": [
      "k=10 Test Acc: 0.847\n"
     ]
    }
   ],
   "source": [
    "knn = KNeighborsClassifier(n_neighbors=10)\n",
    "knn.fit(input_train, output_train)\n",
    "print('k=10 Test Acc: %.3f' % knn.score(input_test, output_test))"
   ]
  },
  {
   "cell_type": "code",
   "execution_count": 19,
   "metadata": {},
   "outputs": [
    {
     "name": "stdout",
     "output_type": "stream",
     "text": [
      "k=11 Test Acc: 0.847\n"
     ]
    }
   ],
   "source": [
    " # Note that k: 11 provides the best accuracy where the classifier starts to stablize\n",
    "knn = KNeighborsClassifier(n_neighbors=11)\n",
    "knn.fit(input_train, output_train)\n",
    "print('k=11 Test Acc: %.3f' % knn.score(input_test, output_test))"
   ]
  },
  {
   "cell_type": "code",
   "execution_count": 20,
   "metadata": {},
   "outputs": [
    {
     "name": "stdout",
     "output_type": "stream",
     "text": [
      "k=12 Test Acc: 0.847\n"
     ]
    }
   ],
   "source": [
    "knn = KNeighborsClassifier(n_neighbors=12)\n",
    "knn.fit(input_train, output_train)\n",
    "print('k=12 Test Acc: %.3f' % knn.score(input_test, output_test))"
   ]
  },
  {
   "cell_type": "code",
   "execution_count": 21,
   "metadata": {},
   "outputs": [
    {
     "name": "stdout",
     "output_type": "stream",
     "text": [
      "k=13 Test Acc: 0.847\n"
     ]
    }
   ],
   "source": [
    "knn = KNeighborsClassifier(n_neighbors=13)\n",
    "knn.fit(input_train, output_train)\n",
    "print('k=13 Test Acc: %.3f' % knn.score(input_test, output_test))"
   ]
  },
  {
   "cell_type": "code",
   "execution_count": 22,
   "metadata": {},
   "outputs": [
    {
     "name": "stdout",
     "output_type": "stream",
     "text": [
      "k=14 Test Acc: 0.847\n"
     ]
    }
   ],
   "source": [
    "knn = KNeighborsClassifier(n_neighbors=14)\n",
    "knn.fit(input_train, output_train)\n",
    "print('k=14 Test Acc: %.3f' % knn.score(input_test, output_test))"
   ]
  },
  {
   "cell_type": "code",
   "execution_count": 23,
   "metadata": {},
   "outputs": [
    {
     "name": "stdout",
     "output_type": "stream",
     "text": [
      "k=15 Test Acc: 0.847\n"
     ]
    }
   ],
   "source": [
    "knn = KNeighborsClassifier(n_neighbors=15)\n",
    "knn.fit(input_train, output_train)\n",
    "print('k=15 Test Acc: %.3f' % knn.score(input_test, output_test))"
   ]
  },
  {
   "cell_type": "code",
   "execution_count": 24,
   "metadata": {},
   "outputs": [
    {
     "name": "stdout",
     "output_type": "stream",
     "text": [
      "k=16 Test Acc: 0.847\n"
     ]
    }
   ],
   "source": [
    "knn = KNeighborsClassifier(n_neighbors=16)\n",
    "knn.fit(input_train, output_train)\n",
    "print('k=16 Test Acc: %.3f' % knn.score(input_test, output_test))"
   ]
  },
  {
   "cell_type": "code",
   "execution_count": null,
   "metadata": {},
   "outputs": [],
   "source": []
  }
 ],
 "metadata": {
  "kernelspec": {
   "display_name": "Python 3",
   "language": "python",
   "name": "python3"
  },
  "language_info": {
   "codemirror_mode": {
    "name": "ipython",
    "version": 3
   },
   "file_extension": ".py",
   "mimetype": "text/x-python",
   "name": "python",
   "nbconvert_exporter": "python",
   "pygments_lexer": "ipython3",
   "version": "3.7.3"
  }
 },
 "nbformat": 4,
 "nbformat_minor": 2
}
